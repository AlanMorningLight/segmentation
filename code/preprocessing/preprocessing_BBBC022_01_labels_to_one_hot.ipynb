{
 "cells": [
  {
   "cell_type": "code",
   "execution_count": 23,
   "metadata": {
    "collapsed": true
   },
   "outputs": [],
   "source": [
    "%matplotlib inline\n",
    "import matplotlib.pyplot as plt\n",
    "import numpy as np\n",
    "import skimage.io\n",
    "import skimage.segmentation\n",
    "import warnings\n",
    "\n",
    "import os"
   ]
  },
  {
   "cell_type": "code",
   "execution_count": 24,
   "metadata": {
    "collapsed": true
   },
   "outputs": [],
   "source": [
    "in_dir_mask = '/home/jr0th/data/BBBC022/cp_output/mask/'\n",
    "in_dir_images = '/home/jr0th/data/BBBC022/raw/unzipped/'\n",
    "\n",
    "out_dir_images = '/home/jr0th/github/segmentation/data/BBBC022/all_images/'\n",
    "out_dir_labels = '/home/jr0th/github/segmentation/data/BBBC022/all_labels/'"
   ]
  },
  {
   "cell_type": "code",
   "execution_count": 29,
   "metadata": {
    "collapsed": false
   },
   "outputs": [
    {
     "name": "stdout",
     "output_type": "stream",
     "text": [
      "3456 3456\n",
      "3456 6912\n",
      "3456 10368\n",
      "3456 13824\n",
      "3456 17280\n",
      "3456 20736\n",
      "3456 24192\n",
      "3456 27648\n",
      "3456 31104\n",
      "3456 34560\n",
      "3456 38016\n",
      "3456 41472\n",
      "3456 44928\n",
      "3456 48384\n",
      "3456 51840\n",
      "3456 55296\n",
      "865 56161\n",
      "0 56161\n",
      "0 56161\n",
      "0 56161\n"
     ]
    }
   ],
   "source": [
    "# get list of files\n",
    "list_file = []\n",
    "\n",
    "# images have same folder and file name, just the ending is different (tif vs png)\n",
    "list_dir_mask = os.listdir(in_dir_mask)\n",
    "\n",
    "for dir_mask in list_dir_mask:\n",
    "    files_in_dir = [dir_mask + '/' + filename for filename in os.listdir(in_dir_mask + dir_mask)]\n",
    "    list_file = list_file + files_in_dir\n",
    "    print(len(files_in_dir), len(list_file))"
   ]
  },
  {
   "cell_type": "code",
   "execution_count": 22,
   "metadata": {
    "collapsed": false,
    "scrolled": false
   },
   "outputs": [
    {
     "name": "stdout",
     "output_type": "stream",
     "text": [
      "BBBC022_v1_images_20586w1_IXMtest_A06_s7_w106D9CFC5-7FCE-4544-BA6A-496EFF63EDAA\n",
      "BBBC022_v1_images_20586w1_IXMtest_P15_s5_w1A3A76039-ACA1-442B-B704-621AA939655D\n",
      "BBBC022_v1_images_20586w1_IXMtest_D06_s7_w1C84197A3-886D-4BDC-BEF8-1219515ECAED\n",
      "BBBC022_v1_images_20586w1_IXMtest_O20_s9_w1E2585595-8AC5-47EC-928B-93E655BA6882\n",
      "BBBC022_v1_images_20586w1_IXMtest_N03_s5_w16A4E6008-4422-497B-8769-E0D3855CFEF3\n",
      "BBBC022_v1_images_20586w1_IXMtest_K21_s7_w14D4021DC-52E5-4034-8AC6-790EFB69F489\n",
      "BBBC022_v1_images_20586w1_IXMtest_H14_s4_w176037B15-38A2-4FD4-9491-1E8627985052\n",
      "BBBC022_v1_images_20586w1_IXMtest_O19_s6_w1E3324AC9-B43B-440F-AE5F-7F7B2D0CB22B\n",
      "BBBC022_v1_images_20586w1_IXMtest_F08_s8_w196FAFF4E-A2D8-4DAF-B333-2E6B00DCF1B1\n",
      "BBBC022_v1_images_20586w1_IXMtest_K18_s6_w157CDB835-AB35-452C-9241-26FE8E60A70F\n"
     ]
    }
   ],
   "source": [
    "for file in list_file[:10]:\n",
    "\n",
    "    # get path to file\n",
    "    folder_file_name = os.path.splitext(file)[0]\n",
    "\n",
    "    # read image and convert to 8 bit\n",
    "    img = skimage.io.imread(in_dir_images + folder_file_name + \".tif\")\n",
    "    \n",
    "    # normalize image\n",
    "    percentile = 99.9\n",
    "    high = np.percentile(img, percentile)\n",
    "    low = np.percentile(img, 100-percentile)\n",
    "    \n",
    "    scale = skimage.dtype_limits(img)\n",
    "    \n",
    "    img = (img - low) / (high - low) * scale[1]\n",
    "    img = np.minimum(scale[1], img)\n",
    "    img = np.maximum(scale[0], img)\n",
    "    img = img.astype(np.uint16)\n",
    "    \n",
    "    # read labels\n",
    "    mask = skimage.io.imread(in_dir_mask + folder_file_name + \".png\")\n",
    "\n",
    "    # find boundaries\n",
    "    boundary = skimage.segmentation.find_boundaries(mask)\n",
    "    \n",
    "    labels = np.zeros((img.shape[0], img.shape[1], 3), dtype = np.bool)\n",
    "    labels[:,:,0] = mask == 0\n",
    "    labels[:,:,1] = mask != 0 \n",
    "    labels[:,:,2] = boundary\n",
    "    \n",
    "    new_filename = folder_file_name.replace('/','_')\n",
    "    print(new_filename)\n",
    "    with warnings.catch_warnings():\n",
    "        warnings.simplefilter(\"ignore\")\n",
    "        skimage.io.imsave(out_dir_images + new_filename + '.png', img)\n",
    "        skimage.io.imsave(out_dir_labels + new_filename + '.png', labels)\n",
    "    "
   ]
  },
  {
   "cell_type": "code",
   "execution_count": null,
   "metadata": {
    "collapsed": true
   },
   "outputs": [],
   "source": []
  }
 ],
 "metadata": {
  "kernelspec": {
   "display_name": "Python 3",
   "language": "python",
   "name": "python3"
  },
  "language_info": {
   "codemirror_mode": {
    "name": "ipython",
    "version": 3
   },
   "file_extension": ".py",
   "mimetype": "text/x-python",
   "name": "python",
   "nbconvert_exporter": "python",
   "pygments_lexer": "ipython3",
   "version": "3.5.2"
  }
 },
 "nbformat": 4,
 "nbformat_minor": 2
}
