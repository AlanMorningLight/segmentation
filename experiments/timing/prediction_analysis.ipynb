{
 "cells": [
  {
   "cell_type": "code",
   "execution_count": null,
   "metadata": {},
   "outputs": [],
   "source": [
    "% matplotlib inline\n",
    "import matplotlib.pyplot as plt\n",
    "\n",
    "import tensorflow as tf\n",
    "\n",
    "import sys\n",
    "sys.path.insert(0, '/home/jr0th/github/segmentation/code/')\n",
    "import helper.model_builder\n",
    "import helper.metrics\n",
    "\n",
    "import skimage.io\n",
    "\n",
    "import numpy as np\n",
    "\n",
    "import time\n",
    "\n",
    "import keras\n",
    "\n",
    "# build session running on a specific GPU\n",
    "configuration = tf.ConfigProto()\n",
    "configuration.gpu_options.allow_growth = True\n",
    "configuration.gpu_options.visible_device_list = \"2\"\n",
    "session = tf.Session(config = configuration)\n",
    "\n",
    "keras.backend.set_session(session)"
   ]
  },
  {
   "cell_type": "code",
   "execution_count": null,
   "metadata": {
    "collapsed": true
   },
   "outputs": [],
   "source": [
    "test_img_path_patch = '/home/jr0th/github/segmentation/data/BBBC022_hand_200/test/x/all/IXMtest_A02_s1_w1051DAA7C-7042-435F-99F0-1E847D9B42CB_0_0.png'\n",
    "test_img_path_full = '/home/jr0th/github/segmentation/data/BBBC022_hand_200/test/x_big/IXMtest_A02_s1_w1051DAA7C-7042-435F-99F0-1E847D9B42CB.png'"
   ]
  },
  {
   "cell_type": "code",
   "execution_count": null,
   "metadata": {
    "scrolled": true
   },
   "outputs": [],
   "source": [
    "# use latest checkpoint\n",
    "weights_path = '/home/jr0th/github/segmentation/checkpoints/checkpoint_boundary_4_generator.hdf5'\n",
    "\n",
    "# get images\n",
    "patch = skimage.io.imread(test_img_path_patch)\n",
    "full = skimage.io.imread(test_img_path_full)\n",
    "\n",
    "dim1_patch = patch.shape[0]\n",
    "dim2_patch = patch.shape[1]\n",
    "\n",
    "dim1_full = full.shape[0]\n",
    "dim2_full = full.shape[1]\n",
    "\n",
    "patch = patch.reshape((1, dim1_patch, dim2_patch, 1)) / 255\n",
    "full = full.reshape((1, dim1_full, dim2_full, 1)) / 255\n",
    "\n",
    "# build model and load weights\n",
    "model_patch = helper.model_builder.get_model_1_class(dim1_patch, dim2_patch)\n",
    "model_full = helper.model_builder.get_model_1_class(dim1_full, dim2_full)\n",
    "\n",
    "model_patch.load_weights(weights_path)\n",
    "model_full.load_weights(weights_path)"
   ]
  },
  {
   "cell_type": "markdown",
   "metadata": {},
   "source": [
    "# Test a patch"
   ]
  },
  {
   "cell_type": "code",
   "execution_count": null,
   "metadata": {},
   "outputs": [],
   "source": [
    "y = model_patch.predict(patch).squeeze()\n",
    "\n",
    "plt.imshow(y)\n",
    "plt.colorbar()\n",
    "plt.show()"
   ]
  },
  {
   "cell_type": "markdown",
   "metadata": {},
   "source": [
    "# Test a full image"
   ]
  },
  {
   "cell_type": "code",
   "execution_count": null,
   "metadata": {},
   "outputs": [],
   "source": [
    "y = model_full.predict(full).squeeze()\n",
    "\n",
    "plt.imshow(y)\n",
    "plt.colorbar()\n",
    "\n",
    "plt.title('Outline Prediction')\n",
    "plt.savefig('sample_prediction.eps', format='EPS')"
   ]
  }
 ],
 "metadata": {
  "kernelspec": {
   "display_name": "Python 3",
   "language": "python",
   "name": "python3"
  },
  "language_info": {
   "codemirror_mode": {
    "name": "ipython",
    "version": 3
   },
   "file_extension": ".py",
   "mimetype": "text/x-python",
   "name": "python",
   "nbconvert_exporter": "python",
   "pygments_lexer": "ipython3",
   "version": "3.6.1"
  }
 },
 "nbformat": 4,
 "nbformat_minor": 2
}
