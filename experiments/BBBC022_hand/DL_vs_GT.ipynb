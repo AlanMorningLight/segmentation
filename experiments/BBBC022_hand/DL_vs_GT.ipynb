{
 "cells": [
  {
   "cell_type": "code",
   "execution_count": null,
   "metadata": {},
   "outputs": [],
   "source": [
    "%matplotlib inline\n",
    "import matplotlib.pyplot as plt\n",
    "\n",
    "import skimage.io\n",
    "\n",
    "import os.path\n",
    "\n",
    "import sys\n",
    "sys.path.insert(0, '/home/jr0th/github/segmentation/code/')\n",
    "import helper.metrics\n",
    "\n",
    "import numpy as np"
   ]
  },
  {
   "cell_type": "code",
   "execution_count": null,
   "metadata": {
    "collapsed": true
   },
   "outputs": [],
   "source": [
    "dl_label = '/home/jr0th/github/segmentation/experiments/BBBC022_hand/DL_labels/'\n",
    "gt_label = '/home/jr0th/github/segmentation/experiments/BBBC022_hand/GT_labels/'\n",
    "\n",
    "mat_dl_dir = '/home/jr0th/github/segmentation/experiments/BBBC022_hand/IoU_DL/'"
   ]
  },
  {
   "cell_type": "code",
   "execution_count": null,
   "metadata": {
    "scrolled": true
   },
   "outputs": [],
   "source": [
    "labels_dl = skimage.io.imread_collection(dl_label + \"*.png\")\n",
    "\n",
    "# buffer for results\n",
    "results = np.empty(shape = (0, 4))\n",
    "\n",
    "# loop over all images\n",
    "for index in range(len(labels_dl)):\n",
    "    \n",
    "    # print progress\n",
    "    print(index + 1, '/', len(labels_dl))\n",
    "\n",
    "    path = labels_dl.files[index]\n",
    "    filename = os.path.basename(path)\n",
    "    filename_wo_ext = os.path.splitext(filename)[0]\n",
    "    \n",
    "    # get labels\n",
    "    label_dl = labels_dl[index]\n",
    "    label_gt = skimage.io.imread(gt_label + filename)\n",
    "\n",
    "    nb_gt_cells = np.max(label_gt)\n",
    "    \n",
    "    [nb_overdetection, nb_underdetection, mean_IoU, IoUs] = helper.metrics.compare_two_labels(label_dl, label_gt, True)\n",
    "    \n",
    "    np.save(mat_dl_dir + filename_wo_ext, IoUs)\n",
    "    \n",
    "    result = np.hstack((nb_overdetection, nb_underdetection, mean_IoU, nb_gt_cells))\n",
    "    results = np.vstack((results, result))\n",
    "\n",
    "print(results)\n",
    "\n",
    "# calculate error ratio\n",
    "sums = np.sum(results, axis = 0)\n",
    "nb_gt_cells_total = sums[3]\n",
    "nb_errors = sums[0] + sums[1]\n",
    "\n",
    "err_ratio = nb_errors / nb_gt_cells_total\n",
    "print(err_ratio)\n",
    "\n",
    "np.savetxt('./results_table_DL.txt', results)\n",
    "np.savetxt('./results_summary_DL.txt', np.array([nb_errors, nb_gt_cells_total, err_ratio]))"
   ]
  }
 ],
 "metadata": {
  "kernelspec": {
   "display_name": "Python 3",
   "language": "python",
   "name": "python3"
  },
  "language_info": {
   "codemirror_mode": {
    "name": "ipython",
    "version": 3
   },
   "file_extension": ".py",
   "mimetype": "text/x-python",
   "name": "python",
   "nbconvert_exporter": "python",
   "pygments_lexer": "ipython3",
   "version": "3.6.1"
  }
 },
 "nbformat": 4,
 "nbformat_minor": 2
}
