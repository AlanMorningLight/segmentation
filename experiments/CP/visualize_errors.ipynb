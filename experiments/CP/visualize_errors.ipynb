{
 "cells": [
  {
   "cell_type": "code",
   "execution_count": null,
   "metadata": {
    "collapsed": true
   },
   "outputs": [],
   "source": [
    "%matplotlib inline\n",
    "import matplotlib.pyplot as plt\n",
    "\n",
    "import sys\n",
    "sys.path.append('/home/jr0th/github/segmentation/code/')\n",
    "\n",
    "import skimage.io\n",
    "import skimage.morphology\n",
    "import skimage.segmentation\n",
    "\n",
    "import sklearn.metrics\n",
    "\n",
    "import os.path\n",
    "import os\n",
    "\n",
    "import numpy as np\n",
    "\n",
    "import time\n",
    "\n",
    "debug = True"
   ]
  },
  {
   "cell_type": "code",
   "execution_count": null,
   "metadata": {
    "collapsed": true
   },
   "outputs": [],
   "source": [
    "gt_data_dir = '/home/jr0th/github/segmentation/experiments/GT_segmentations/'\n",
    "mo_data_dir = '/home/jr0th/github/segmentation/experiments/CP/segm_CP/'\n",
    "\n",
    "mat_dir = '/home/jr0th/github/segmentation/experiments/CP/IoU/'\n",
    "\n",
    "path_files_test = '/home/jr0th/github/segmentation/data/BBBC022/test.txt'\n",
    "\n",
    "err_img_out_dir = '/home/jr0th/github/segmentation/experiments/CP/error_img/'"
   ]
  },
  {
   "cell_type": "code",
   "execution_count": null,
   "metadata": {
    "collapsed": true
   },
   "outputs": [],
   "source": [
    "with open(path_files_test) as f:\n",
    "    test_files = f.read().splitlines()"
   ]
  },
  {
   "cell_type": "code",
   "execution_count": null,
   "metadata": {
    "collapsed": true
   },
   "outputs": [],
   "source": [
    "def visualize(mat, seg_gt, seg_model):\n",
    "\n",
    "    # get number of nuclei\n",
    "    nb_nuc_gt = mat.shape[0]\n",
    "    nb_nuc_model = mat.shape[1]\n",
    "    \n",
    "    if debug:\n",
    "        print('# nuclei ground truth', nb_nuc_gt)\n",
    "        print('# nuclei model', nb_nuc_model)\n",
    "    \n",
    "    # only allow assignments if IoU is at least 0.5\n",
    "    detection_map = (mat > 0.5)\n",
    "    nb_matches = np.sum(detection_map)\n",
    "    detection_map_gt = np.sum(detection_map, 1)\n",
    "    detection_map_model = np.sum(detection_map, 0)\n",
    "    \n",
    "    # mask with matches\n",
    "    detection_rate = mat * detection_map\n",
    "    \n",
    "    nb_overdetection = nb_nuc_model - nb_matches\n",
    "    nb_underdetection = nb_nuc_gt - nb_matches\n",
    "    \n",
    "    if debug:\n",
    "        print('# matches', nb_matches)\n",
    "        print('# overdetections', nb_overdetection)\n",
    "        print('# underdetections', nb_underdetection)\n",
    "        \n",
    "    mean_IoU = np.mean(np.sum(detection_rate, axis = 1))\n",
    "    \n",
    "    if debug:\n",
    "        print('# mean IoU', mean_IoU)\n",
    "    \n",
    "    # plot masked matrix\n",
    "    plt.figure(figsize=(10,10))\n",
    "    plt.matshow(detection_rate)\n",
    "    plt.show()\n",
    "    \n",
    "    # get indices of mislabeled cells\n",
    "    error_underdetected = np.nonzero(detection_map_gt == 0)[0] + 1\n",
    "    error_overdetected = np.nonzero(detection_map_model == 0)[0] + 1\n",
    "\n",
    "    # get empty buffer image\n",
    "    error_img = np.zeros((seg_model.shape[0], seg_model.shape[1], 3), dtype = np.ubyte)\n",
    "\n",
    "    # color image\n",
    "    brownish = [172, 128, 0]\n",
    "    blueish = [31, 190, 214]\n",
    "    for error in error_underdetected:\n",
    "        # brownish: underdetected\n",
    "        error_img[seg_gt == error, :] = brownish\n",
    "    for error in error_overdetected:\n",
    "        # blueish: overdetected\n",
    "        error_img[seg_model == error, :] = error_img[seg_model == error, :] + blueish\n",
    "        \n",
    "    # pixels where under- and overdetection occured appear in pink\n",
    "    \n",
    "    return error_img\n",
    "\n",
    "    "
   ]
  },
  {
   "cell_type": "code",
   "execution_count": null,
   "metadata": {
    "collapsed": true
   },
   "outputs": [],
   "source": [
    "for filename in test_files:\n",
    "    \n",
    "    filename_wo_ext = os.path.splitext(filename)[0]\n",
    "    \n",
    "    # load error matrices\n",
    "    IoU = np.load(mat_dir + filename_wo_ext + '.npy')\n",
    "\n",
    "    # load segmentations\n",
    "    seg_gt = skimage.io.imread(gt_data_dir + filename)\n",
    "    seg_mo = skimage.io.imread(mo_data_dir + filename)\n",
    "    \n",
    "    # visualize only if matrices are full (no empty images and some detection)\n",
    "    if(IoU.size != 0):\n",
    "        error_img = visualize(IoU, seg_gt, seg_mo)\n",
    "        plt.imshow(error_img)\n",
    "        plt.show()\n",
    "        skimage.io.imsave(err_img_out_dir + filename, error_img)\n",
    "        "
   ]
  }
 ],
 "metadata": {
  "kernelspec": {
   "display_name": "Python 3",
   "language": "python",
   "name": "python3"
  },
  "language_info": {
   "codemirror_mode": {
    "name": "ipython",
    "version": 3
   },
   "file_extension": ".py",
   "mimetype": "text/x-python",
   "name": "python",
   "nbconvert_exporter": "python",
   "pygments_lexer": "ipython3",
   "version": "3.6.1"
  }
 },
 "nbformat": 4,
 "nbformat_minor": 2
}
