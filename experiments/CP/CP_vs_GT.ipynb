{
 "cells": [
  {
   "cell_type": "code",
   "execution_count": null,
   "metadata": {},
   "outputs": [],
   "source": [
    "%matplotlib inline\n",
    "import matplotlib.pyplot as plt\n",
    "\n",
    "import skimage.io\n",
    "import skimage.morphology\n",
    "\n",
    "import os.path\n",
    "\n",
    "import sys\n",
    "\n",
    "sys.path.append('/home/jr0th/github/segmentation/code/')\n",
    "import helper.metrics\n",
    "\n",
    "import numpy as np"
   ]
  },
  {
   "cell_type": "code",
   "execution_count": null,
   "metadata": {},
   "outputs": [],
   "source": [
    "# problem-specific paths\n",
    "dir_root = '/home/jr0th/github/segmentation/experiments/CP/'\n",
    "\n",
    "tag = 'CP'\n",
    "in_dir_segm = '/home/jr0th/github/segmentation/data/BBBC022/raw/raw_cp_segmentations/'\n",
    "out_dir_segm = dir_root + \"segm_\" + tag + '/'\n",
    "\n",
    "path_result_txt = dir_root + 'results_table_' + tag + '.txt'"
   ]
  },
  {
   "cell_type": "code",
   "execution_count": null,
   "metadata": {
    "collapsed": true
   },
   "outputs": [],
   "source": [
    "# constant paths\n",
    "in_dir_gt_segm = dir_root + '../GT_segmentations/'\n",
    "\n",
    "out_dir_IoU = dir_root + 'IoU/'\n",
    "path_files_test = '/home/jr0th/github/segmentation/data/BBBC022/test.txt'"
   ]
  },
  {
   "cell_type": "code",
   "execution_count": null,
   "metadata": {
    "collapsed": true
   },
   "outputs": [],
   "source": [
    "with open(path_files_test) as f:\n",
    "    test_files = f.read().splitlines()"
   ]
  },
  {
   "cell_type": "code",
   "execution_count": null,
   "metadata": {},
   "outputs": [],
   "source": [
    "# buffer for results\n",
    "results = np.empty(shape = (0, 4))\n",
    "\n",
    "# loop over all images\n",
    "for filename in test_files:\n",
    "    \n",
    "    filename_wo_ext = os.path.splitext(filename)[0]\n",
    "    \n",
    "    # get model label\n",
    "    mo_label = skimage.io.imread(in_dir_segm + filename_wo_ext + '.tiff')\n",
    "    mo_label = skimage.morphology.label(mo_label)\n",
    "    \n",
    "    # get GT label\n",
    "    gt_label = skimage.io.imread(in_dir_gt_segm + filename)\n",
    "    \n",
    "    # save CP label\n",
    "    skimage.io.imsave(out_dir_segm + filename, mo_label)\n",
    "    \n",
    "    nb_gt_cells = np.max(gt_label)\n",
    "    \n",
    "    [nb_overdetection, nb_underdetection, mean_IoU, IoUs] = helper.metrics.compare_two_labels(mo_label, gt_label, True)\n",
    "    \n",
    "    np.save(out_dir_IoU + filename_wo_ext, IoUs)\n",
    "    \n",
    "    result = np.hstack((nb_overdetection, nb_underdetection, mean_IoU, nb_gt_cells))\n",
    "    results = np.vstack((results, result))\n",
    "\n",
    "np.savetxt(path_result_txt, results)"
   ]
  }
 ],
 "metadata": {
  "kernelspec": {
   "display_name": "Python 3",
   "language": "python",
   "name": "python3"
  },
  "language_info": {
   "codemirror_mode": {
    "name": "ipython",
    "version": 3
   },
   "file_extension": ".py",
   "mimetype": "text/x-python",
   "name": "python",
   "nbconvert_exporter": "python",
   "pygments_lexer": "ipython3",
   "version": "3.6.1"
  }
 },
 "nbformat": 4,
 "nbformat_minor": 2
}
